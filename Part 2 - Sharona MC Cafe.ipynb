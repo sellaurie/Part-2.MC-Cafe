{
 "cells": [
  {
   "cell_type": "code",
   "execution_count": 28,
   "id": "15b761e8",
   "metadata": {},
   "outputs": [
    {
     "name": "stdout",
     "output_type": "stream",
     "text": [
      "Welcome to MC Cafe!\n",
      "Would you like to see the Menu: Yes\n",
      "{'coffee': {'Espresso': 1.5, 'Americano': 2.0, 'Caffe latte': 2.25, 'Mocha': 2.25, 'Cappucino': 2.5, 'Macchiato': 2.5}, 'tea': {'White tea': 1.5, 'Green tea': 2.0, 'Oolong tea': 2.25, 'Black tea': 2.25, 'Earl Grey': 2.5, 'Matcha': 2.5}, 'pastries': {'Croissant': 5.5, 'Cinnamon roll': 4.5, 'Banana bread': 4.25, 'Pumpkin bread': 3.75, 'Sticky bun': 4.25, 'Apple turnover': 3.75}}\n",
      "Would you like to Order: Yes\n",
      "{'coffee': {'Espresso': 1.5, 'Americano': 2.0, 'Caffe latte': 2.25, 'Mocha': 2.25, 'Cappucino': 2.5, 'Macchiato': 2.5}, 'tea': {'White tea': 1.5, 'Green tea': 2.0, 'Oolong tea': 2.25, 'Black tea': 2.25, 'Earl Grey': 2.5, 'Matcha': 2.5}, 'pastries': {'Croissant': 5.5, 'Cinnamon roll': 4.5, 'Banana bread': 4.25, 'Pumpkin bread': 3.75, 'Sticky bun': 4.25, 'Apple turnover': 3.75}}\n",
      "What is your item: Americano\n",
      "What is your quantity: 2\n",
      "Would you like to order another item: No\n",
      "Thank you for visiting MC Cafe!\n"
     ]
    }
   ],
   "source": [
    "print(\"Welcome to MC Cafe!\")\n",
    "\n",
    "menu = {\n",
    "    \"coffee\": {\n",
    "        \"Espresso\": 1.50,\n",
    "        \"Americano\": 2.00,\n",
    "        \"Caffe latte\": 2.25,\n",
    "        \"Mocha\": 2.25,\n",
    "        \"Cappucino\": 2.50,\n",
    "        \"Macchiato\": 2.50},\n",
    "    \"tea\": {\"White tea\": 1.50,\n",
    "           \"Green tea\": 2.00,\n",
    "           \"Oolong tea\": 2.25,\n",
    "           \"Black tea\": 2.25,\n",
    "           \"Earl Grey\": 2.50,\n",
    "           \"Matcha\": 2.50},\n",
    "    \"pastries\": {\"Croissant\": 5.50,\n",
    "                \"Cinnamon roll\": 4.50,\n",
    "                \"Banana bread\": 4.25,\n",
    "                \"Pumpkin bread\": 3.75,\n",
    "                \"Sticky bun\": 4.25,\n",
    "                \"Apple turnover\": 3.75}\n",
    "}\n",
    "\n",
    "\n",
    "question = input(\"Would you like to see the Menu: \")\n",
    "\n",
    "if question == 'Yes':\n",
    "    print(menu)\n",
    "else:\n",
    "    print(\"Thank you for visiting MC Cafe!\")\n",
    "\n",
    "question2 = input(\"Would you like to Order: \")\n",
    "if question2 == 'Yes':\n",
    "    print(menu)\n",
    "else:\n",
    "    print(\"Thank you for visiting MC Cafe!\")\n",
    "\n",
    "question3 = input(\"What is your item: \")\n",
    "question4 = int(input(\"What is your quantity: \"))\n",
    "\n",
    "question5 = input(\"Would you like to order another item: \")\n",
    "if question5 == 'Yes':\n",
    "    print(menu)\n",
    "else:\n",
    "    print(\"Thank you for visiting MC Cafe!\")"
   ]
  },
  {
   "cell_type": "code",
   "execution_count": null,
   "id": "f0a568e9",
   "metadata": {},
   "outputs": [],
   "source": []
  },
  {
   "cell_type": "code",
   "execution_count": null,
   "id": "71c8116e",
   "metadata": {},
   "outputs": [],
   "source": []
  }
 ],
 "metadata": {
  "kernelspec": {
   "display_name": "Python 3 (ipykernel)",
   "language": "python",
   "name": "python3"
  },
  "language_info": {
   "codemirror_mode": {
    "name": "ipython",
    "version": 3
   },
   "file_extension": ".py",
   "mimetype": "text/x-python",
   "name": "python",
   "nbconvert_exporter": "python",
   "pygments_lexer": "ipython3",
   "version": "3.9.7"
  }
 },
 "nbformat": 4,
 "nbformat_minor": 5
}
